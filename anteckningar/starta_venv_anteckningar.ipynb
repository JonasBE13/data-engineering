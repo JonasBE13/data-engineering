{
 "cells": [
  {
   "cell_type": "markdown",
   "metadata": {},
   "source": [
    "## För att starta venv:\n",
    "- Stå i documents/github/data-engineering\n",
    "    - pwd (printworkingdirectory), cd (change directory), cd ..(gå upp ett steg)\n",
    "- source venv/Scripts/activate"
   ]
  },
  {
   "cell_type": "markdown",
   "metadata": {},
   "source": [
    "### För att döda vmmenvWSL\n",
    "- Öppna powershell admin\n",
    "    - taskkill /f /im wslservice.exe"
   ]
  },
  {
   "cell_type": "markdown",
   "metadata": {},
   "source": []
  }
 ],
 "metadata": {
  "language_info": {
   "name": "python"
  },
  "orig_nbformat": 4
 },
 "nbformat": 4,
 "nbformat_minor": 2
}
