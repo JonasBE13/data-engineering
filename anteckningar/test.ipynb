{
 "cells": [
  {
   "cell_type": "code",
   "execution_count": null,
   "metadata": {},
   "outputs": [],
   "source": [
    "some_dict = {\"user\": \"jonas\", \"address\": \"some st.\", \"age\": 27}\n",
    "\n",
    "other_dict = {\"user\": \"jonas\", \"address\": \"some st.\"}\n",
    "some_other_code = 100\n",
    "some_more_code = 100 / 5"
   ]
  }
 ],
 "metadata": {
  "language_info": {
   "name": "python"
  },
  "orig_nbformat": 4
 },
 "nbformat": 4,
 "nbformat_minor": 2
}
