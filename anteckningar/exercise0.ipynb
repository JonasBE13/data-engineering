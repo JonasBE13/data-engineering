{
 "cells": [
  {
   "cell_type": "markdown",
   "metadata": {},
   "source": [
    "1. Navigating and moving (*)\n",
    "* a) Make a subdirectory called cool_notes\n",
    "    - mkdir cool_notes\n",
    "* b) Move all .txt files into cool_notes\n",
    "    - mv note1.txt  note2.txt note3.txt note4 cool_notes/\n",
    "* c) Delete note4\n",
    "    rm note4\n",
    "* d) Change directory to cool_notes and list all the files there\n",
    "    - cd cool_notes\n",
    "* e) Move note3.txt out from cool_notes into parent directory\n",
    "    - mv note3.txt .. (.. går upp ett steg, aka lägger den i parent)\n",
    "* f) Navigate to parent directory\n",
    "    - cd .. (går upp ett steg)\n",
    "* g) From here list all files including hidden files\n",
    "    - ls -a\n",
    "\n",
    "* h) Change name on note3.txt to note_home.txt\n",
    "    - mv note3.txt note_home.txt (går att byta namn med mv)"
   ]
  },
  {
   "cell_type": "markdown",
   "metadata": {},
   "source": []
  }
 ],
 "metadata": {
  "language_info": {
   "name": "python"
  },
  "orig_nbformat": 4
 },
 "nbformat": 4,
 "nbformat_minor": 2
}
